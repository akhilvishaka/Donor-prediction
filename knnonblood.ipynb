{
  "nbformat": 4,
  "nbformat_minor": 0,
  "metadata": {
    "colab": {
      "name": "knnonblood.ipynb",
      "provenance": [],
      "collapsed_sections": []
    },
    "kernelspec": {
      "name": "python3",
      "display_name": "Python 3"
    }
  },
  "cells": [
    {
      "cell_type": "code",
      "metadata": {
        "id": "GXNRNn8sWCxr",
        "colab_type": "code",
        "outputId": "03c7b21a-32d6-4156-cf35-a46b7d90ab60",
        "colab": {
          "base_uri": "https://localhost:8080/",
          "height": 365
        }
      },
      "source": [
        "#downlaoding the dataset\n",
        "!rm transfusion.data\n",
        "!wget https://archive.ics.uci.edu/ml/machine-learning-databases/blood-transfusion/transfusion.data"
      ],
      "execution_count": 0,
      "outputs": [
        {
          "output_type": "stream",
          "text": [
            "rm: cannot remove 'transfusion.data': No such file or directory\n",
            "--2019-03-20 08:25:05--  https://archive.ics.uci.edu/ml/machine-learning-databases/blood-transfusion/transfusion.data\n",
            "Resolving archive.ics.uci.edu (archive.ics.uci.edu)... 128.195.10.249\n",
            "Connecting to archive.ics.uci.edu (archive.ics.uci.edu)|128.195.10.249|:443... connected.\n",
            "HTTP request sent, awaiting response... 200 OK\n",
            "Length: 12843 (13K) [text/plain]\n",
            "Saving to: ‘transfusion.data’\n",
            "\n",
            "transfusion.data    100%[===================>]  12.54K  --.-KB/s    in 0s      \n",
            "\n",
            "2019-03-20 08:25:06 (109 MB/s) - ‘transfusion.data’ saved [12843/12843]\n",
            "\n"
          ],
          "name": "stdout"
        }
      ]
    },
    {
      "cell_type": "code",
      "metadata": {
        "id": "Ohuqalg445ig",
        "colab_type": "code",
        "colab": {}
      },
      "source": [
        "import pandas as pd"
      ],
      "execution_count": 0,
      "outputs": []
    },
    {
      "cell_type": "code",
      "metadata": {
        "id": "GrYNXuFX49bv",
        "colab_type": "code",
        "outputId": "8491c5a7-4946-49ca-aac8-bf5558ff527e",
        "colab": {
          "base_uri": "https://localhost:8080/",
          "height": 63
        }
      },
      "source": [
        "!ls"
      ],
      "execution_count": 0,
      "outputs": [
        {
          "output_type": "stream",
          "text": [
            "sample_data  transfusion.data\n"
          ],
          "name": "stdout"
        }
      ]
    },
    {
      "cell_type": "code",
      "metadata": {
        "id": "iaPYdijs5mcv",
        "colab_type": "code",
        "colab": {}
      },
      "source": [
        "import os\n",
        "os.chdir(\"/content/\")"
      ],
      "execution_count": 0,
      "outputs": []
    },
    {
      "cell_type": "code",
      "metadata": {
        "id": "aQgOog3L5wDf",
        "colab_type": "code",
        "outputId": "4b856dae-6e46-4733-f97a-82d0e8d9d7ab",
        "colab": {
          "base_uri": "https://localhost:8080/",
          "height": 63
        }
      },
      "source": [
        "!ls"
      ],
      "execution_count": 0,
      "outputs": [
        {
          "output_type": "stream",
          "text": [
            "sample_data  transfusion.data\n"
          ],
          "name": "stdout"
        }
      ]
    },
    {
      "cell_type": "code",
      "metadata": {
        "id": "8LQcDvjB93Kn",
        "colab_type": "code",
        "colab": {}
      },
      "source": [
        "#data is read as dataframes\n",
        "df = pd.read_csv(\"transfusion.data\",delimiter=\",\")"
      ],
      "execution_count": 0,
      "outputs": []
    },
    {
      "cell_type": "code",
      "metadata": {
        "id": "MwIpqQZM-FCU",
        "colab_type": "code",
        "outputId": "2c3cadc5-f718-4a9b-d90e-5f28be349315",
        "colab": {
          "base_uri": "https://localhost:8080/",
          "height": 326
        }
      },
      "source": [
        "df.head()"
      ],
      "execution_count": 0,
      "outputs": [
        {
          "output_type": "execute_result",
          "data": {
            "text/html": [
              "<div>\n",
              "<style scoped>\n",
              "    .dataframe tbody tr th:only-of-type {\n",
              "        vertical-align: middle;\n",
              "    }\n",
              "\n",
              "    .dataframe tbody tr th {\n",
              "        vertical-align: top;\n",
              "    }\n",
              "\n",
              "    .dataframe thead th {\n",
              "        text-align: right;\n",
              "    }\n",
              "</style>\n",
              "<table border=\"1\" class=\"dataframe\">\n",
              "  <thead>\n",
              "    <tr style=\"text-align: right;\">\n",
              "      <th></th>\n",
              "      <th>Recency (months)</th>\n",
              "      <th>Frequency (times)</th>\n",
              "      <th>Monetary (c.c. blood)</th>\n",
              "      <th>Time (months)</th>\n",
              "      <th>whether he/she donated blood in March 2007</th>\n",
              "    </tr>\n",
              "  </thead>\n",
              "  <tbody>\n",
              "    <tr>\n",
              "      <th>0</th>\n",
              "      <td>2</td>\n",
              "      <td>50</td>\n",
              "      <td>12500</td>\n",
              "      <td>98</td>\n",
              "      <td>1</td>\n",
              "    </tr>\n",
              "    <tr>\n",
              "      <th>1</th>\n",
              "      <td>0</td>\n",
              "      <td>13</td>\n",
              "      <td>3250</td>\n",
              "      <td>28</td>\n",
              "      <td>1</td>\n",
              "    </tr>\n",
              "    <tr>\n",
              "      <th>2</th>\n",
              "      <td>1</td>\n",
              "      <td>16</td>\n",
              "      <td>4000</td>\n",
              "      <td>35</td>\n",
              "      <td>1</td>\n",
              "    </tr>\n",
              "    <tr>\n",
              "      <th>3</th>\n",
              "      <td>2</td>\n",
              "      <td>20</td>\n",
              "      <td>5000</td>\n",
              "      <td>45</td>\n",
              "      <td>1</td>\n",
              "    </tr>\n",
              "    <tr>\n",
              "      <th>4</th>\n",
              "      <td>1</td>\n",
              "      <td>24</td>\n",
              "      <td>6000</td>\n",
              "      <td>77</td>\n",
              "      <td>0</td>\n",
              "    </tr>\n",
              "  </tbody>\n",
              "</table>\n",
              "</div>"
            ],
            "text/plain": [
              "   Recency (months)  Frequency (times)  Monetary (c.c. blood)  Time (months)  \\\n",
              "0                 2                 50                  12500             98   \n",
              "1                 0                 13                   3250             28   \n",
              "2                 1                 16                   4000             35   \n",
              "3                 2                 20                   5000             45   \n",
              "4                 1                 24                   6000             77   \n",
              "\n",
              "   whether he/she donated blood in March 2007  \n",
              "0                                           1  \n",
              "1                                           1  \n",
              "2                                           1  \n",
              "3                                           1  \n",
              "4                                           0  "
            ]
          },
          "metadata": {
            "tags": []
          },
          "execution_count": 7
        }
      ]
    },
    {
      "cell_type": "code",
      "metadata": {
        "id": "W-Tpu0FbjV0E",
        "colab_type": "code",
        "outputId": "50bef6ec-2fb2-42c6-c4cc-0c5e2ce0991c",
        "colab": {
          "base_uri": "https://localhost:8080/",
          "height": 326
        }
      },
      "source": [
        "df.tail()"
      ],
      "execution_count": 0,
      "outputs": [
        {
          "output_type": "execute_result",
          "data": {
            "text/html": [
              "<div>\n",
              "<style scoped>\n",
              "    .dataframe tbody tr th:only-of-type {\n",
              "        vertical-align: middle;\n",
              "    }\n",
              "\n",
              "    .dataframe tbody tr th {\n",
              "        vertical-align: top;\n",
              "    }\n",
              "\n",
              "    .dataframe thead th {\n",
              "        text-align: right;\n",
              "    }\n",
              "</style>\n",
              "<table border=\"1\" class=\"dataframe\">\n",
              "  <thead>\n",
              "    <tr style=\"text-align: right;\">\n",
              "      <th></th>\n",
              "      <th>Recency (months)</th>\n",
              "      <th>Frequency (times)</th>\n",
              "      <th>Monetary (c.c. blood)</th>\n",
              "      <th>Time (months)</th>\n",
              "      <th>whether he/she donated blood in March 2007</th>\n",
              "    </tr>\n",
              "  </thead>\n",
              "  <tbody>\n",
              "    <tr>\n",
              "      <th>743</th>\n",
              "      <td>23</td>\n",
              "      <td>2</td>\n",
              "      <td>500</td>\n",
              "      <td>38</td>\n",
              "      <td>0</td>\n",
              "    </tr>\n",
              "    <tr>\n",
              "      <th>744</th>\n",
              "      <td>21</td>\n",
              "      <td>2</td>\n",
              "      <td>500</td>\n",
              "      <td>52</td>\n",
              "      <td>0</td>\n",
              "    </tr>\n",
              "    <tr>\n",
              "      <th>745</th>\n",
              "      <td>23</td>\n",
              "      <td>3</td>\n",
              "      <td>750</td>\n",
              "      <td>62</td>\n",
              "      <td>0</td>\n",
              "    </tr>\n",
              "    <tr>\n",
              "      <th>746</th>\n",
              "      <td>39</td>\n",
              "      <td>1</td>\n",
              "      <td>250</td>\n",
              "      <td>39</td>\n",
              "      <td>0</td>\n",
              "    </tr>\n",
              "    <tr>\n",
              "      <th>747</th>\n",
              "      <td>72</td>\n",
              "      <td>1</td>\n",
              "      <td>250</td>\n",
              "      <td>72</td>\n",
              "      <td>0</td>\n",
              "    </tr>\n",
              "  </tbody>\n",
              "</table>\n",
              "</div>"
            ],
            "text/plain": [
              "     Recency (months)  Frequency (times)  Monetary (c.c. blood)  \\\n",
              "743                23                  2                    500   \n",
              "744                21                  2                    500   \n",
              "745                23                  3                    750   \n",
              "746                39                  1                    250   \n",
              "747                72                  1                    250   \n",
              "\n",
              "     Time (months)  whether he/she donated blood in March 2007  \n",
              "743             38                                           0  \n",
              "744             52                                           0  \n",
              "745             62                                           0  \n",
              "746             39                                           0  \n",
              "747             72                                           0  "
            ]
          },
          "metadata": {
            "tags": []
          },
          "execution_count": 8
        }
      ]
    },
    {
      "cell_type": "code",
      "metadata": {
        "id": "aNHOzAbuNUm4",
        "colab_type": "code",
        "outputId": "67e671e0-45fb-4d88-98d1-cea4af2b8291",
        "colab": {
          "base_uri": "https://localhost:8080/",
          "height": 402
        }
      },
      "source": [
        "df.describe()"
      ],
      "execution_count": 0,
      "outputs": [
        {
          "output_type": "execute_result",
          "data": {
            "text/html": [
              "<div>\n",
              "<style scoped>\n",
              "    .dataframe tbody tr th:only-of-type {\n",
              "        vertical-align: middle;\n",
              "    }\n",
              "\n",
              "    .dataframe tbody tr th {\n",
              "        vertical-align: top;\n",
              "    }\n",
              "\n",
              "    .dataframe thead th {\n",
              "        text-align: right;\n",
              "    }\n",
              "</style>\n",
              "<table border=\"1\" class=\"dataframe\">\n",
              "  <thead>\n",
              "    <tr style=\"text-align: right;\">\n",
              "      <th></th>\n",
              "      <th>Recency (months)</th>\n",
              "      <th>Frequency (times)</th>\n",
              "      <th>Monetary (c.c. blood)</th>\n",
              "      <th>Time (months)</th>\n",
              "      <th>whether he/she donated blood in March 2007</th>\n",
              "    </tr>\n",
              "  </thead>\n",
              "  <tbody>\n",
              "    <tr>\n",
              "      <th>count</th>\n",
              "      <td>748.000000</td>\n",
              "      <td>748.000000</td>\n",
              "      <td>748.000000</td>\n",
              "      <td>748.000000</td>\n",
              "      <td>748.000000</td>\n",
              "    </tr>\n",
              "    <tr>\n",
              "      <th>mean</th>\n",
              "      <td>9.506684</td>\n",
              "      <td>5.514706</td>\n",
              "      <td>1378.676471</td>\n",
              "      <td>34.282086</td>\n",
              "      <td>0.237968</td>\n",
              "    </tr>\n",
              "    <tr>\n",
              "      <th>std</th>\n",
              "      <td>8.095396</td>\n",
              "      <td>5.839307</td>\n",
              "      <td>1459.826781</td>\n",
              "      <td>24.376714</td>\n",
              "      <td>0.426124</td>\n",
              "    </tr>\n",
              "    <tr>\n",
              "      <th>min</th>\n",
              "      <td>0.000000</td>\n",
              "      <td>1.000000</td>\n",
              "      <td>250.000000</td>\n",
              "      <td>2.000000</td>\n",
              "      <td>0.000000</td>\n",
              "    </tr>\n",
              "    <tr>\n",
              "      <th>25%</th>\n",
              "      <td>2.750000</td>\n",
              "      <td>2.000000</td>\n",
              "      <td>500.000000</td>\n",
              "      <td>16.000000</td>\n",
              "      <td>0.000000</td>\n",
              "    </tr>\n",
              "    <tr>\n",
              "      <th>50%</th>\n",
              "      <td>7.000000</td>\n",
              "      <td>4.000000</td>\n",
              "      <td>1000.000000</td>\n",
              "      <td>28.000000</td>\n",
              "      <td>0.000000</td>\n",
              "    </tr>\n",
              "    <tr>\n",
              "      <th>75%</th>\n",
              "      <td>14.000000</td>\n",
              "      <td>7.000000</td>\n",
              "      <td>1750.000000</td>\n",
              "      <td>50.000000</td>\n",
              "      <td>0.000000</td>\n",
              "    </tr>\n",
              "    <tr>\n",
              "      <th>max</th>\n",
              "      <td>74.000000</td>\n",
              "      <td>50.000000</td>\n",
              "      <td>12500.000000</td>\n",
              "      <td>98.000000</td>\n",
              "      <td>1.000000</td>\n",
              "    </tr>\n",
              "  </tbody>\n",
              "</table>\n",
              "</div>"
            ],
            "text/plain": [
              "       Recency (months)  Frequency (times)  Monetary (c.c. blood)  \\\n",
              "count        748.000000         748.000000             748.000000   \n",
              "mean           9.506684           5.514706            1378.676471   \n",
              "std            8.095396           5.839307            1459.826781   \n",
              "min            0.000000           1.000000             250.000000   \n",
              "25%            2.750000           2.000000             500.000000   \n",
              "50%            7.000000           4.000000            1000.000000   \n",
              "75%           14.000000           7.000000            1750.000000   \n",
              "max           74.000000          50.000000           12500.000000   \n",
              "\n",
              "       Time (months)  whether he/she donated blood in March 2007  \n",
              "count     748.000000                                  748.000000  \n",
              "mean       34.282086                                    0.237968  \n",
              "std        24.376714                                    0.426124  \n",
              "min         2.000000                                    0.000000  \n",
              "25%        16.000000                                    0.000000  \n",
              "50%        28.000000                                    0.000000  \n",
              "75%        50.000000                                    0.000000  \n",
              "max        98.000000                                    1.000000  "
            ]
          },
          "metadata": {
            "tags": []
          },
          "execution_count": 9
        }
      ]
    },
    {
      "cell_type": "code",
      "metadata": {
        "id": "re-hGUfx-cUi",
        "colab_type": "code",
        "colab": {}
      },
      "source": [
        "#feature separation\n",
        "feature_columns = ['Recency (months)','Frequency (times)','Monetary (c.c. blood)','Time (months)']\n",
        "X = df[feature_columns].values\n",
        "#to be predicted\n",
        "y = df['whether he/she donated blood in March 2007'].values\n",
        "\n",
        "from sklearn.preprocessing import LabelEncoder\n",
        "le = LabelEncoder()\n",
        "y = le.fit_transform(y)"
      ],
      "execution_count": 0,
      "outputs": []
    },
    {
      "cell_type": "code",
      "metadata": {
        "id": "mEe3mQ73NHYB",
        "colab_type": "code",
        "colab": {}
      },
      "source": [
        "#y"
      ],
      "execution_count": 0,
      "outputs": []
    },
    {
      "cell_type": "code",
      "metadata": {
        "id": "GknUosmGA6Mx",
        "colab_type": "code",
        "colab": {}
      },
      "source": [
        "#splitting the dataset\n",
        "from sklearn.model_selection import train_test_split\n",
        "feature_train,feature_test,label_train,label_test = train_test_split(X,y,test_size=0.2,random_state=15)"
      ],
      "execution_count": 0,
      "outputs": []
    },
    {
      "cell_type": "code",
      "metadata": {
        "id": "5-KZGvbkIrvh",
        "colab_type": "code",
        "colab": {}
      },
      "source": [
        "#generating a tree\n",
        "from sklearn.tree import DecisionTreeClassifier\n",
        "dtree=DecisionTreeClassifier()\n",
        "dtree.fit(X,y)\n",
        "from sklearn.externals.six import StringIO  \n",
        "from IPython.display import Image  \n",
        "from sklearn.tree import export_graphviz\n",
        "import pydotplus\n",
        "dot_data = StringIO()\n",
        "export_graphviz(dtree, out_file=dot_data,  \n",
        "                filled=True, rounded=True,\n",
        "                special_characters=True)\n",
        "graph = pydotplus.graph_from_dot_data(dot_data.getvalue())  \n",
        "Image(graph.create_png())"
      ],
      "execution_count": 0,
      "outputs": []
    },
    {
      "cell_type": "code",
      "metadata": {
        "id": "N5bFv5HBsfkN",
        "colab_type": "code",
        "colab": {}
      },
      "source": [
        "train_pred = dtree.predict_proba(feature_train)\n",
        "from sklearn.preprocessing import MinMaxScaler\n",
        "scaler = MinMaxScaler(feature_range=(14,15))\n",
        "print(scaler.fit(train_pred))\n",
        "print(scaler.data_max_)\n",
        "print(scaler.transform(train_pred))\n",
        "train_pred_norm = scaler.transform(train_pred)\n",
        "\n",
        "\n",
        "len(train_pred_norm)\n",
        "\n",
        "opti_k = []\n",
        "for i,j in train_pred_norm:\n",
        "  opti_k.append(max(i,j))\n",
        "\n",
        "print(opti_k)\n",
        "#obtained the optimal k value for all the samples in train set by choosing max value"
      ],
      "execution_count": 0,
      "outputs": []
    },
    {
      "cell_type": "code",
      "metadata": {
        "id": "MLEwf_lbu1Ox",
        "colab_type": "code",
        "colab": {}
      },
      "source": [
        "df2 = pd.DataFrame(feature_train,columns =['Recency (months)','Frequency (times)','Monetary (c.c. blood)','Time (months)'])\n",
        "df2.head(3)\n",
        "#inserting optimal k as new feature\n",
        "df2.insert(4,\"Optimal K\",opti_k)"
      ],
      "execution_count": 0,
      "outputs": []
    },
    {
      "cell_type": "code",
      "metadata": {
        "id": "W99IyqQEu_v-",
        "colab_type": "code",
        "colab": {}
      },
      "source": [
        "df2.head()"
      ],
      "execution_count": 0,
      "outputs": []
    },
    {
      "cell_type": "code",
      "metadata": {
        "id": "l5gI5hvPvgAM",
        "colab_type": "code",
        "colab": {}
      },
      "source": [
        "feature_train = df2.values"
      ],
      "execution_count": 0,
      "outputs": []
    },
    {
      "cell_type": "code",
      "metadata": {
        "id": "DyN9yKT9hRLX",
        "colab_type": "code",
        "colab": {}
      },
      "source": [
        "feature_train[0]"
      ],
      "execution_count": 0,
      "outputs": []
    },
    {
      "cell_type": "code",
      "metadata": {
        "id": "na13sJ3Iv70n",
        "colab_type": "code",
        "colab": {}
      },
      "source": [
        "train_pred = dtree.predict_proba(feature_test)\n",
        "from sklearn.preprocessing import MinMaxScaler\n",
        "scaler = MinMaxScaler(feature_range=(14,15))\n",
        "print(scaler.fit(train_pred))\n",
        "print(scaler.data_max_)\n",
        "print(scaler.transform(train_pred))\n",
        "train_pred_norm = scaler.transform(train_pred)\n",
        "\n",
        "\n",
        "len(train_pred_norm)\n",
        "\n",
        "opti_k = []\n",
        "for i,j in train_pred_norm:\n",
        "  opti_k.append(max(i,j))\n",
        "\n",
        "print(opti_k)\n",
        "#same optimal k is calculated for all samples in test set\n",
        "\n",
        "df3 = pd.DataFrame(feature_test,columns =['Recency (months)','Frequency (times)','Monetary (c.c. blood)','Time (months)'])\n",
        "df3.head(3)\n",
        "df3.insert(4,\"Optimal K\",opti_k)\n",
        "#inserted into test features\n",
        "feature_test = df3.values\n",
        "\n",
        "print(feature_test)"
      ],
      "execution_count": 0,
      "outputs": []
    },
    {
      "cell_type": "code",
      "metadata": {
        "id": "OEDGyvQ6-K8E",
        "colab_type": "code",
        "colab": {}
      },
      "source": [
        "#knn classifier for predicting whether blood donated in march 2007\n",
        "from sklearn.neighbors import KNeighborsClassifier\n",
        "neigh = KNeighborsClassifier(algorithm=\"kd_tree\",n_jobs=-1,n_neighbors=15,leaf_size=20)\n",
        "neigh.fit(feature_train,label_train)"
      ],
      "execution_count": 0,
      "outputs": []
    },
    {
      "cell_type": "code",
      "metadata": {
        "id": "vQxMQGkP_i8t",
        "colab_type": "code",
        "colab": {}
      },
      "source": [
        "import numpy as np\n",
        "neigh.predict(feature_test)"
      ],
      "execution_count": 0,
      "outputs": []
    },
    {
      "cell_type": "code",
      "metadata": {
        "id": "J8pXgG1y_y-T",
        "colab_type": "code",
        "colab": {}
      },
      "source": [
        "print(\"Accuracy is \",neigh.score(feature_test,label_test))"
      ],
      "execution_count": 0,
      "outputs": []
    },
    {
      "cell_type": "code",
      "metadata": {
        "id": "su3QUlZPoTXA",
        "colab_type": "code",
        "colab": {}
      },
      "source": [
        "feature_test[1]"
      ],
      "execution_count": 0,
      "outputs": []
    },
    {
      "cell_type": "code",
      "metadata": {
        "id": "Dk6tVsyHpwn9",
        "colab_type": "code",
        "colab": {}
      },
      "source": [
        "label_test[1]"
      ],
      "execution_count": 0,
      "outputs": []
    },
    {
      "cell_type": "code",
      "metadata": {
        "id": "SD8Chwh73t3K",
        "colab_type": "code",
        "colab": {}
      },
      "source": [
        "!pip install decision-tree-id3"
      ],
      "execution_count": 0,
      "outputs": []
    },
    {
      "cell_type": "code",
      "metadata": {
        "id": "LRD76lrSAFEi",
        "colab_type": "code",
        "colab": {}
      },
      "source": [
        "neigh.get_params()"
      ],
      "execution_count": 0,
      "outputs": []
    },
    {
      "cell_type": "code",
      "metadata": {
        "id": "jUGoz5FkJEAF",
        "colab_type": "code",
        "colab": {}
      },
      "source": [
        "import matplotlib.pyplot as plt\n",
        "from pandas.plotting import parallel_coordinates\n",
        "plt.figure(figsize=(10,10))\n",
        "parallel_coordinates(df, \"whether he/she donated blood in March 2007\",color=('#ff3300', '#66ff99'))\n",
        "plt.title('Blood dataset plot', fontsize=20, fontweight='bold')\n",
        "plt.xlabel('Features', fontsize=15)\n",
        "plt.ylabel('values', fontsize=15)\n",
        "plt.legend(loc=1, prop={'size': 15}, frameon=True,shadow=True, facecolor=\"white\", edgecolor=\"black\")\n",
        "plt.plot(color=\"red\")\n",
        "plt.show()"
      ],
      "execution_count": 0,
      "outputs": []
    },
    {
      "cell_type": "code",
      "metadata": {
        "id": "1NAIgyIXMNIH",
        "colab_type": "code",
        "colab": {}
      },
      "source": [
        "from pandas.plotting import andrews_curves\n",
        "andrews_curves(df, \"whether he/she donated blood in March 2007\",color=('#ff0000', '#00bbff'))\n",
        "plt.title('Andrews Curves Plot', fontsize=20, fontweight='bold')\n",
        "plt.legend(loc=1, prop={'size': 15}, frameon=True,shadow=True, facecolor=\"white\", edgecolor=\"black\")\n",
        "plt.show()"
      ],
      "execution_count": 0,
      "outputs": []
    },
    {
      "cell_type": "code",
      "metadata": {
        "id": "zCYU_-TDFVUy",
        "colab_type": "code",
        "colab": {}
      },
      "source": [
        ""
      ],
      "execution_count": 0,
      "outputs": []
    },
    {
      "cell_type": "code",
      "metadata": {
        "colab_type": "code",
        "id": "f_MNZ7cXFVpD",
        "colab": {}
      },
      "source": [
        "#feature separation\n",
        "feature_columns = ['Recency (months)','Frequency (times)','Monetary (c.c. blood)','Time (months)']\n",
        "X = df[feature_columns].values\n",
        "#to be predicted\n",
        "y = df['whether he/she donated blood in March 2007'].values\n",
        "\n",
        "from sklearn.preprocessing import LabelEncoder\n",
        "le = LabelEncoder()\n",
        "y = le.fit_transform(y)"
      ],
      "execution_count": 0,
      "outputs": []
    },
    {
      "cell_type": "code",
      "metadata": {
        "colab_type": "code",
        "id": "jTLTmxqwFVpL",
        "colab": {}
      },
      "source": [
        "#splitting the dataset\n",
        "from sklearn.model_selection import train_test_split\n",
        "feature_train,feature_test,label_train,label_test = train_test_split(X,y,test_size=0.2,random_state=15)"
      ],
      "execution_count": 0,
      "outputs": []
    },
    {
      "cell_type": "code",
      "metadata": {
        "id": "Hl0tWoSMsdT5",
        "colab_type": "code",
        "colab": {}
      },
      "source": [
        "feature_train"
      ],
      "execution_count": 0,
      "outputs": []
    },
    {
      "cell_type": "code",
      "metadata": {
        "id": "W1RDVaZT_qnm",
        "colab_type": "code",
        "colab": {}
      },
      "source": [
        "train_pred = dtree.predict_proba(feature_train)\n",
        "from sklearn.preprocessing import MinMaxScaler\n",
        "scaler = MinMaxScaler(feature_range=(14,15))\n",
        "print(scaler.fit(train_pred))\n",
        "print(scaler.data_max_)\n",
        "print(scaler.transform(train_pred))\n",
        "train_pred_norm = scaler.transform(train_pred)\n",
        "\n",
        "\n",
        "len(train_pred_norm)\n",
        "\n",
        "th_k = []\n",
        "for i,j in train_pred_norm:\n",
        "  th_k.append([i,j])\n",
        "\n",
        "print(th_k)\n",
        "#obtained the optimal k value for all the samples in train set by choosing max value"
      ],
      "execution_count": 0,
      "outputs": []
    },
    {
      "cell_type": "code",
      "metadata": {
        "id": "4p0rwEjBAE9I",
        "colab_type": "code",
        "colab": {}
      },
      "source": [
        "df4 = pd.DataFrame(feature_train,columns =['Recency (months)','Frequency (times)','Monetary (c.c. blood)','Time (months)'])\n",
        "df4.head(3)\n",
        "#inserting k1 as new feature\n",
        "k1 = []\n",
        "k2 = []\n",
        "for x in th_k:\n",
        "  a = x[0] ** (1./2.)\n",
        "  k1.append(a)\n",
        "  b = x[1] ** (1./3.)\n",
        "  k2.append(b)\n",
        "print(\"K1 is \",k1)\n",
        "print(\"k2 is \",k2)"
      ],
      "execution_count": 0,
      "outputs": []
    },
    {
      "cell_type": "code",
      "metadata": {
        "id": "TOqXp99_Bw54",
        "colab_type": "code",
        "colab": {}
      },
      "source": [
        "df4.head(3)"
      ],
      "execution_count": 0,
      "outputs": []
    },
    {
      "cell_type": "code",
      "metadata": {
        "id": "NdOxOjBABt3h",
        "colab_type": "code",
        "colab": {}
      },
      "source": [
        "df4.insert(4,\"K1\",k1)\n",
        "df4.insert(5,\"k2\",k2)"
      ],
      "execution_count": 0,
      "outputs": []
    },
    {
      "cell_type": "code",
      "metadata": {
        "id": "iepJDixHA0Yi",
        "colab_type": "code",
        "colab": {}
      },
      "source": [
        "df4.head(3)"
      ],
      "execution_count": 0,
      "outputs": []
    },
    {
      "cell_type": "code",
      "metadata": {
        "id": "cSTj1UNeBKv5",
        "colab_type": "code",
        "colab": {}
      },
      "source": [
        "feature_train = df4.values"
      ],
      "execution_count": 0,
      "outputs": []
    },
    {
      "cell_type": "code",
      "metadata": {
        "id": "xwKGv-2OCGcu",
        "colab_type": "code",
        "colab": {}
      },
      "source": [
        "test_pred = dtree.predict_proba(feature_test)\n",
        "from sklearn.preprocessing import MinMaxScaler\n",
        "scaler = MinMaxScaler(feature_range=(14,15))\n",
        "print(scaler.fit(test_pred))\n",
        "print(scaler.data_max_)\n",
        "print(scaler.transform(test_pred))\n",
        "test_pred_norm = scaler.transform(test_pred)\n",
        "\n",
        "\n",
        "len(test_pred_norm)\n",
        "\n",
        "th_k = []\n",
        "for i,j in test_pred_norm:\n",
        "  th_k.append([i,j])\n",
        "\n",
        "print(th_k)\n",
        "#same optimal k is calculated for all samples in test set\n",
        "\n",
        "#inserting k1 as new feature\n",
        "k1 = []\n",
        "k2 = []\n",
        "for x in th_k:\n",
        "  a = x[0] ** (1./2.)\n",
        "  k1.append(a)\n",
        "  b = x[1] ** (1./3.)\n",
        "  k2.append(b)\n",
        "#print(\"K1 is \",k1)\n",
        "\n",
        "\n",
        "df5 = pd.DataFrame(feature_test,columns =['Recency (months)','Frequency (times)','Monetary (c.c. blood)','Time (months)'])\n",
        "df5.head(3)\n",
        "df5.insert(4,\"K1\",k1)\n",
        "df5.insert(5,\"k2\",k2)\n",
        "#inserted into test features\n",
        "feature_test = df5.values\n",
        "\n",
        "print(feature_test)"
      ],
      "execution_count": 0,
      "outputs": []
    },
    {
      "cell_type": "code",
      "metadata": {
        "id": "5EYDzAIqCrns",
        "colab_type": "code",
        "colab": {}
      },
      "source": [
        ""
      ],
      "execution_count": 0,
      "outputs": []
    },
    {
      "cell_type": "code",
      "metadata": {
        "colab_type": "code",
        "id": "Qz063f4MC1xg",
        "colab": {}
      },
      "source": [
        "#knn classifier for predicting whether blood donated in march 2007\n",
        "from sklearn.neighbors import KNeighborsClassifier\n",
        "neigh = KNeighborsClassifier(algorithm=\"brute\",n_neighbors=1,metric=\"minkowski\",weights=\"distance\",p=2)\n",
        "neigh.fit(feature_train,label_train)"
      ],
      "execution_count": 0,
      "outputs": []
    },
    {
      "cell_type": "code",
      "metadata": {
        "colab_type": "code",
        "id": "Y69vIY79C1xs",
        "colab": {}
      },
      "source": [
        "import numpy as np\n",
        "neigh.predict(feature_test)"
      ],
      "execution_count": 0,
      "outputs": []
    },
    {
      "cell_type": "code",
      "metadata": {
        "colab_type": "code",
        "id": "ROFc0j3BC1x3",
        "colab": {}
      },
      "source": [
        "print(\"Accuracy is \",neigh.score(feature_test,label_test))"
      ],
      "execution_count": 0,
      "outputs": []
    },
    {
      "cell_type": "code",
      "metadata": {
        "colab_type": "code",
        "id": "z_GeAPDdC1x_",
        "colab": {}
      },
      "source": [
        "import matplotlib.pyplot as plt\n",
        "from pandas.plotting import parallel_coordinates\n",
        "plt.figure(figsize=(10,10))\n",
        "parallel_coordinates(df, \"whether he/she donated blood in March 2007\",color=('#ffff00', '#05158c'))\n",
        "plt.title('Blood dataset plot', fontsize=20, fontweight='bold')\n",
        "plt.xlabel('Features', fontsize=15)\n",
        "plt.ylabel('values', fontsize=15)\n",
        "plt.legend(loc=1, prop={'size': 15}, frameon=True,shadow=True, facecolor=\"white\", edgecolor=\"black\")\n",
        "plt.plot(color=\"red\")\n",
        "plt.show()"
      ],
      "execution_count": 0,
      "outputs": []
    },
    {
      "cell_type": "code",
      "metadata": {
        "colab_type": "code",
        "id": "sGI1lRnGC1yH",
        "colab": {}
      },
      "source": [
        "from pandas.plotting import andrews_curves\n",
        "andrews_curves(df, \"whether he/she donated blood in March 2007\",color=('#a500ff', '#ffa100'))\n",
        "plt.title('Andrews Curves Plot', fontsize=20, fontweight='bold')\n",
        "plt.legend(loc=1, prop={'size': 15}, frameon=True,shadow=True, facecolor=\"white\", edgecolor=\"black\")\n",
        "plt.show()"
      ],
      "execution_count": 0,
      "outputs": []
    },
    {
      "cell_type": "code",
      "metadata": {
        "id": "J3NyMBhDD4By",
        "colab_type": "code",
        "colab": {}
      },
      "source": [
        ""
      ],
      "execution_count": 0,
      "outputs": []
    }
  ]
}